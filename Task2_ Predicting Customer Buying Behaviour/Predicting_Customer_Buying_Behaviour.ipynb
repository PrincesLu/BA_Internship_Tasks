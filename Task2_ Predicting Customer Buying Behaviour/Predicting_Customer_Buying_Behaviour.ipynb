{
  "nbformat": 4,
  "nbformat_minor": 0,
  "metadata": {
    "colab": {
      "provenance": []
    },
    "kernelspec": {
      "name": "python3",
      "display_name": "Python 3"
    },
    "language_info": {
      "name": "python"
    }
  },
  "cells": [
    {
      "cell_type": "code",
      "execution_count": 2,
      "metadata": {
        "id": "4Lv9_yF7OsRZ"
      },
      "outputs": [],
      "source": [
        "%matplotlib inline\n",
        "\n",
        "import pandas as pd\n",
        "import numpy as np \n",
        "import matplotlib.pyplot as plt\n",
        "import seaborn as sns\n",
        "\n",
        "import warnings\n",
        "warnings.filterwarnings('ignore')"
      ]
    },
    {
      "cell_type": "code",
      "source": [
        "data = 'customer_booking.csv'"
      ],
      "metadata": {
        "id": "GIU-GPLWPWBe"
      },
      "execution_count": 3,
      "outputs": []
    },
    {
      "cell_type": "code",
      "source": [
        "import chardet \n",
        "with open('customer_booking.csv', 'rb') as rawdata:\n",
        "  result = chardet.detect(rawdata.read(100000))\n",
        "\n",
        "print(result)"
      ],
      "metadata": {
        "colab": {
          "base_uri": "https://localhost:8080/"
        },
        "id": "wy3Y3UyJPgsj",
        "outputId": "bb1a09e4-8100-4e45-b53d-b2f26145e56f"
      },
      "execution_count": 4,
      "outputs": [
        {
          "output_type": "stream",
          "name": "stdout",
          "text": [
            "{'encoding': 'ISO-8859-1', 'confidence': 0.73, 'language': ''}\n"
          ]
        }
      ]
    },
    {
      "cell_type": "code",
      "source": [
        "df = pd.read_csv(data, encoding='ISO-8859-1')"
      ],
      "metadata": {
        "id": "x8zuItr4P5ww"
      },
      "execution_count": 6,
      "outputs": []
    },
    {
      "cell_type": "code",
      "source": [
        "df.head(10)"
      ],
      "metadata": {
        "colab": {
          "base_uri": "https://localhost:8080/",
          "height": 427
        },
        "id": "46iMPhRLQC_A",
        "outputId": "8710514d-bc28-42f7-e059-eea7f96f2af6"
      },
      "execution_count": 7,
      "outputs": [
        {
          "output_type": "execute_result",
          "data": {
            "text/plain": [
              "   num_passengers sales_channel  trip_type  purchase_lead  length_of_stay  \\\n",
              "0               2      Internet  RoundTrip            262              19   \n",
              "1               1      Internet  RoundTrip            112              20   \n",
              "2               2      Internet  RoundTrip            243              22   \n",
              "3               1      Internet  RoundTrip             96              31   \n",
              "4               2      Internet  RoundTrip             68              22   \n",
              "5               1      Internet  RoundTrip              3              48   \n",
              "6               3      Internet  RoundTrip            201              33   \n",
              "7               2      Internet  RoundTrip            238              19   \n",
              "8               1      Internet  RoundTrip             80              22   \n",
              "9               1        Mobile  RoundTrip            378              30   \n",
              "\n",
              "   flight_hour flight_day   route booking_origin  wants_extra_baggage  \\\n",
              "0            7        Sat  AKLDEL    New Zealand                    1   \n",
              "1            3        Sat  AKLDEL    New Zealand                    0   \n",
              "2           17        Wed  AKLDEL          India                    1   \n",
              "3            4        Sat  AKLDEL    New Zealand                    0   \n",
              "4           15        Wed  AKLDEL          India                    1   \n",
              "5           20        Thu  AKLDEL    New Zealand                    1   \n",
              "6            6        Thu  AKLDEL    New Zealand                    1   \n",
              "7           14        Mon  AKLDEL          India                    1   \n",
              "8            4        Mon  AKLDEL    New Zealand                    0   \n",
              "9           12        Sun  AKLDEL          India                    0   \n",
              "\n",
              "   wants_preferred_seat  wants_in_flight_meals  flight_duration  \\\n",
              "0                     0                      0             5.52   \n",
              "1                     0                      0             5.52   \n",
              "2                     1                      0             5.52   \n",
              "3                     0                      1             5.52   \n",
              "4                     0                      1             5.52   \n",
              "5                     0                      1             5.52   \n",
              "6                     0                      1             5.52   \n",
              "7                     0                      1             5.52   \n",
              "8                     0                      1             5.52   \n",
              "9                     0                      0             5.52   \n",
              "\n",
              "   booking_complete  \n",
              "0                 0  \n",
              "1                 0  \n",
              "2                 0  \n",
              "3                 0  \n",
              "4                 0  \n",
              "5                 0  \n",
              "6                 0  \n",
              "7                 0  \n",
              "8                 0  \n",
              "9                 0  "
            ],
            "text/html": [
              "\n",
              "  <div id=\"df-6ff0fa2e-3f1a-4522-b0d8-c154be3a90f0\">\n",
              "    <div class=\"colab-df-container\">\n",
              "      <div>\n",
              "<style scoped>\n",
              "    .dataframe tbody tr th:only-of-type {\n",
              "        vertical-align: middle;\n",
              "    }\n",
              "\n",
              "    .dataframe tbody tr th {\n",
              "        vertical-align: top;\n",
              "    }\n",
              "\n",
              "    .dataframe thead th {\n",
              "        text-align: right;\n",
              "    }\n",
              "</style>\n",
              "<table border=\"1\" class=\"dataframe\">\n",
              "  <thead>\n",
              "    <tr style=\"text-align: right;\">\n",
              "      <th></th>\n",
              "      <th>num_passengers</th>\n",
              "      <th>sales_channel</th>\n",
              "      <th>trip_type</th>\n",
              "      <th>purchase_lead</th>\n",
              "      <th>length_of_stay</th>\n",
              "      <th>flight_hour</th>\n",
              "      <th>flight_day</th>\n",
              "      <th>route</th>\n",
              "      <th>booking_origin</th>\n",
              "      <th>wants_extra_baggage</th>\n",
              "      <th>wants_preferred_seat</th>\n",
              "      <th>wants_in_flight_meals</th>\n",
              "      <th>flight_duration</th>\n",
              "      <th>booking_complete</th>\n",
              "    </tr>\n",
              "  </thead>\n",
              "  <tbody>\n",
              "    <tr>\n",
              "      <th>0</th>\n",
              "      <td>2</td>\n",
              "      <td>Internet</td>\n",
              "      <td>RoundTrip</td>\n",
              "      <td>262</td>\n",
              "      <td>19</td>\n",
              "      <td>7</td>\n",
              "      <td>Sat</td>\n",
              "      <td>AKLDEL</td>\n",
              "      <td>New Zealand</td>\n",
              "      <td>1</td>\n",
              "      <td>0</td>\n",
              "      <td>0</td>\n",
              "      <td>5.52</td>\n",
              "      <td>0</td>\n",
              "    </tr>\n",
              "    <tr>\n",
              "      <th>1</th>\n",
              "      <td>1</td>\n",
              "      <td>Internet</td>\n",
              "      <td>RoundTrip</td>\n",
              "      <td>112</td>\n",
              "      <td>20</td>\n",
              "      <td>3</td>\n",
              "      <td>Sat</td>\n",
              "      <td>AKLDEL</td>\n",
              "      <td>New Zealand</td>\n",
              "      <td>0</td>\n",
              "      <td>0</td>\n",
              "      <td>0</td>\n",
              "      <td>5.52</td>\n",
              "      <td>0</td>\n",
              "    </tr>\n",
              "    <tr>\n",
              "      <th>2</th>\n",
              "      <td>2</td>\n",
              "      <td>Internet</td>\n",
              "      <td>RoundTrip</td>\n",
              "      <td>243</td>\n",
              "      <td>22</td>\n",
              "      <td>17</td>\n",
              "      <td>Wed</td>\n",
              "      <td>AKLDEL</td>\n",
              "      <td>India</td>\n",
              "      <td>1</td>\n",
              "      <td>1</td>\n",
              "      <td>0</td>\n",
              "      <td>5.52</td>\n",
              "      <td>0</td>\n",
              "    </tr>\n",
              "    <tr>\n",
              "      <th>3</th>\n",
              "      <td>1</td>\n",
              "      <td>Internet</td>\n",
              "      <td>RoundTrip</td>\n",
              "      <td>96</td>\n",
              "      <td>31</td>\n",
              "      <td>4</td>\n",
              "      <td>Sat</td>\n",
              "      <td>AKLDEL</td>\n",
              "      <td>New Zealand</td>\n",
              "      <td>0</td>\n",
              "      <td>0</td>\n",
              "      <td>1</td>\n",
              "      <td>5.52</td>\n",
              "      <td>0</td>\n",
              "    </tr>\n",
              "    <tr>\n",
              "      <th>4</th>\n",
              "      <td>2</td>\n",
              "      <td>Internet</td>\n",
              "      <td>RoundTrip</td>\n",
              "      <td>68</td>\n",
              "      <td>22</td>\n",
              "      <td>15</td>\n",
              "      <td>Wed</td>\n",
              "      <td>AKLDEL</td>\n",
              "      <td>India</td>\n",
              "      <td>1</td>\n",
              "      <td>0</td>\n",
              "      <td>1</td>\n",
              "      <td>5.52</td>\n",
              "      <td>0</td>\n",
              "    </tr>\n",
              "    <tr>\n",
              "      <th>5</th>\n",
              "      <td>1</td>\n",
              "      <td>Internet</td>\n",
              "      <td>RoundTrip</td>\n",
              "      <td>3</td>\n",
              "      <td>48</td>\n",
              "      <td>20</td>\n",
              "      <td>Thu</td>\n",
              "      <td>AKLDEL</td>\n",
              "      <td>New Zealand</td>\n",
              "      <td>1</td>\n",
              "      <td>0</td>\n",
              "      <td>1</td>\n",
              "      <td>5.52</td>\n",
              "      <td>0</td>\n",
              "    </tr>\n",
              "    <tr>\n",
              "      <th>6</th>\n",
              "      <td>3</td>\n",
              "      <td>Internet</td>\n",
              "      <td>RoundTrip</td>\n",
              "      <td>201</td>\n",
              "      <td>33</td>\n",
              "      <td>6</td>\n",
              "      <td>Thu</td>\n",
              "      <td>AKLDEL</td>\n",
              "      <td>New Zealand</td>\n",
              "      <td>1</td>\n",
              "      <td>0</td>\n",
              "      <td>1</td>\n",
              "      <td>5.52</td>\n",
              "      <td>0</td>\n",
              "    </tr>\n",
              "    <tr>\n",
              "      <th>7</th>\n",
              "      <td>2</td>\n",
              "      <td>Internet</td>\n",
              "      <td>RoundTrip</td>\n",
              "      <td>238</td>\n",
              "      <td>19</td>\n",
              "      <td>14</td>\n",
              "      <td>Mon</td>\n",
              "      <td>AKLDEL</td>\n",
              "      <td>India</td>\n",
              "      <td>1</td>\n",
              "      <td>0</td>\n",
              "      <td>1</td>\n",
              "      <td>5.52</td>\n",
              "      <td>0</td>\n",
              "    </tr>\n",
              "    <tr>\n",
              "      <th>8</th>\n",
              "      <td>1</td>\n",
              "      <td>Internet</td>\n",
              "      <td>RoundTrip</td>\n",
              "      <td>80</td>\n",
              "      <td>22</td>\n",
              "      <td>4</td>\n",
              "      <td>Mon</td>\n",
              "      <td>AKLDEL</td>\n",
              "      <td>New Zealand</td>\n",
              "      <td>0</td>\n",
              "      <td>0</td>\n",
              "      <td>1</td>\n",
              "      <td>5.52</td>\n",
              "      <td>0</td>\n",
              "    </tr>\n",
              "    <tr>\n",
              "      <th>9</th>\n",
              "      <td>1</td>\n",
              "      <td>Mobile</td>\n",
              "      <td>RoundTrip</td>\n",
              "      <td>378</td>\n",
              "      <td>30</td>\n",
              "      <td>12</td>\n",
              "      <td>Sun</td>\n",
              "      <td>AKLDEL</td>\n",
              "      <td>India</td>\n",
              "      <td>0</td>\n",
              "      <td>0</td>\n",
              "      <td>0</td>\n",
              "      <td>5.52</td>\n",
              "      <td>0</td>\n",
              "    </tr>\n",
              "  </tbody>\n",
              "</table>\n",
              "</div>\n",
              "      <button class=\"colab-df-convert\" onclick=\"convertToInteractive('df-6ff0fa2e-3f1a-4522-b0d8-c154be3a90f0')\"\n",
              "              title=\"Convert this dataframe to an interactive table.\"\n",
              "              style=\"display:none;\">\n",
              "        \n",
              "  <svg xmlns=\"http://www.w3.org/2000/svg\" height=\"24px\"viewBox=\"0 0 24 24\"\n",
              "       width=\"24px\">\n",
              "    <path d=\"M0 0h24v24H0V0z\" fill=\"none\"/>\n",
              "    <path d=\"M18.56 5.44l.94 2.06.94-2.06 2.06-.94-2.06-.94-.94-2.06-.94 2.06-2.06.94zm-11 1L8.5 8.5l.94-2.06 2.06-.94-2.06-.94L8.5 2.5l-.94 2.06-2.06.94zm10 10l.94 2.06.94-2.06 2.06-.94-2.06-.94-.94-2.06-.94 2.06-2.06.94z\"/><path d=\"M17.41 7.96l-1.37-1.37c-.4-.4-.92-.59-1.43-.59-.52 0-1.04.2-1.43.59L10.3 9.45l-7.72 7.72c-.78.78-.78 2.05 0 2.83L4 21.41c.39.39.9.59 1.41.59.51 0 1.02-.2 1.41-.59l7.78-7.78 2.81-2.81c.8-.78.8-2.07 0-2.86zM5.41 20L4 18.59l7.72-7.72 1.47 1.35L5.41 20z\"/>\n",
              "  </svg>\n",
              "      </button>\n",
              "      \n",
              "  <style>\n",
              "    .colab-df-container {\n",
              "      display:flex;\n",
              "      flex-wrap:wrap;\n",
              "      gap: 12px;\n",
              "    }\n",
              "\n",
              "    .colab-df-convert {\n",
              "      background-color: #E8F0FE;\n",
              "      border: none;\n",
              "      border-radius: 50%;\n",
              "      cursor: pointer;\n",
              "      display: none;\n",
              "      fill: #1967D2;\n",
              "      height: 32px;\n",
              "      padding: 0 0 0 0;\n",
              "      width: 32px;\n",
              "    }\n",
              "\n",
              "    .colab-df-convert:hover {\n",
              "      background-color: #E2EBFA;\n",
              "      box-shadow: 0px 1px 2px rgba(60, 64, 67, 0.3), 0px 1px 3px 1px rgba(60, 64, 67, 0.15);\n",
              "      fill: #174EA6;\n",
              "    }\n",
              "\n",
              "    [theme=dark] .colab-df-convert {\n",
              "      background-color: #3B4455;\n",
              "      fill: #D2E3FC;\n",
              "    }\n",
              "\n",
              "    [theme=dark] .colab-df-convert:hover {\n",
              "      background-color: #434B5C;\n",
              "      box-shadow: 0px 1px 3px 1px rgba(0, 0, 0, 0.15);\n",
              "      filter: drop-shadow(0px 1px 2px rgba(0, 0, 0, 0.3));\n",
              "      fill: #FFFFFF;\n",
              "    }\n",
              "  </style>\n",
              "\n",
              "      <script>\n",
              "        const buttonEl =\n",
              "          document.querySelector('#df-6ff0fa2e-3f1a-4522-b0d8-c154be3a90f0 button.colab-df-convert');\n",
              "        buttonEl.style.display =\n",
              "          google.colab.kernel.accessAllowed ? 'block' : 'none';\n",
              "\n",
              "        async function convertToInteractive(key) {\n",
              "          const element = document.querySelector('#df-6ff0fa2e-3f1a-4522-b0d8-c154be3a90f0');\n",
              "          const dataTable =\n",
              "            await google.colab.kernel.invokeFunction('convertToInteractive',\n",
              "                                                     [key], {});\n",
              "          if (!dataTable) return;\n",
              "\n",
              "          const docLinkHtml = 'Like what you see? Visit the ' +\n",
              "            '<a target=\"_blank\" href=https://colab.research.google.com/notebooks/data_table.ipynb>data table notebook</a>'\n",
              "            + ' to learn more about interactive tables.';\n",
              "          element.innerHTML = '';\n",
              "          dataTable['output_type'] = 'display_data';\n",
              "          await google.colab.output.renderOutput(dataTable, element);\n",
              "          const docLink = document.createElement('div');\n",
              "          docLink.innerHTML = docLinkHtml;\n",
              "          element.appendChild(docLink);\n",
              "        }\n",
              "      </script>\n",
              "    </div>\n",
              "  </div>\n",
              "  "
            ]
          },
          "metadata": {},
          "execution_count": 7
        }
      ]
    },
    {
      "cell_type": "markdown",
      "source": [
        "## Exploratory Data Analysis"
      ],
      "metadata": {
        "id": "SDr87dg5QQvd"
      }
    },
    {
      "cell_type": "code",
      "source": [
        "# checking the datatype\n",
        "df.info()"
      ],
      "metadata": {
        "colab": {
          "base_uri": "https://localhost:8080/"
        },
        "id": "wGvCqcqLQPJE",
        "outputId": "1b79b977-cdc1-4d06-d29c-1c4533eb6c9d"
      },
      "execution_count": 8,
      "outputs": [
        {
          "output_type": "stream",
          "name": "stdout",
          "text": [
            "<class 'pandas.core.frame.DataFrame'>\n",
            "RangeIndex: 50000 entries, 0 to 49999\n",
            "Data columns (total 14 columns):\n",
            " #   Column                 Non-Null Count  Dtype  \n",
            "---  ------                 --------------  -----  \n",
            " 0   num_passengers         50000 non-null  int64  \n",
            " 1   sales_channel          50000 non-null  object \n",
            " 2   trip_type              50000 non-null  object \n",
            " 3   purchase_lead          50000 non-null  int64  \n",
            " 4   length_of_stay         50000 non-null  int64  \n",
            " 5   flight_hour            50000 non-null  int64  \n",
            " 6   flight_day             50000 non-null  object \n",
            " 7   route                  50000 non-null  object \n",
            " 8   booking_origin         50000 non-null  object \n",
            " 9   wants_extra_baggage    50000 non-null  int64  \n",
            " 10  wants_preferred_seat   50000 non-null  int64  \n",
            " 11  wants_in_flight_meals  50000 non-null  int64  \n",
            " 12  flight_duration        50000 non-null  float64\n",
            " 13  booking_complete       50000 non-null  int64  \n",
            "dtypes: float64(1), int64(8), object(5)\n",
            "memory usage: 5.3+ MB\n"
          ]
        }
      ]
    },
    {
      "cell_type": "code",
      "source": [
        "# checking for missing values \n",
        "df.isnull().sum()\n"
      ],
      "metadata": {
        "colab": {
          "base_uri": "https://localhost:8080/"
        },
        "id": "BNZPeD34SOfb",
        "outputId": "384444cb-2ea6-4932-d6da-1842c8b978f1"
      },
      "execution_count": 9,
      "outputs": [
        {
          "output_type": "execute_result",
          "data": {
            "text/plain": [
              "num_passengers           0\n",
              "sales_channel            0\n",
              "trip_type                0\n",
              "purchase_lead            0\n",
              "length_of_stay           0\n",
              "flight_hour              0\n",
              "flight_day               0\n",
              "route                    0\n",
              "booking_origin           0\n",
              "wants_extra_baggage      0\n",
              "wants_preferred_seat     0\n",
              "wants_in_flight_meals    0\n",
              "flight_duration          0\n",
              "booking_complete         0\n",
              "dtype: int64"
            ]
          },
          "metadata": {},
          "execution_count": 9
        }
      ]
    },
    {
      "cell_type": "code",
      "source": [
        "x = df.booking_complete.value_counts()"
      ],
      "metadata": {
        "colab": {
          "base_uri": "https://localhost:8080/"
        },
        "id": "zKTqs4tDSZ0K",
        "outputId": "790f8f86-e65a-4eb7-96e2-27cdf69a11ac"
      },
      "execution_count": 10,
      "outputs": [
        {
          "output_type": "execute_result",
          "data": {
            "text/plain": [
              "0    42522\n",
              "1     7478\n",
              "Name: booking_complete, dtype: int64"
            ]
          },
          "metadata": {},
          "execution_count": 10
        }
      ]
    },
    {
      "cell_type": "markdown",
      "source": [
        "## Mutual Information\n"
      ],
      "metadata": {
        "id": "o3GrWLw0q8GK"
      }
    },
    {
      "cell_type": "code",
      "source": [
        "X = df.drop('booking_complete', axis = 1)\n",
        "y = df.booking_complete\n",
        "\n",
        "#changing object dtype to int dtype\n",
        "\n",
        "for colname in X.select_dtypes('object'):\n",
        "  X[colname], _ = X[colname].factorize()"
      ],
      "metadata": {
        "id": "Nd1DVx7eq_xt"
      },
      "execution_count": 21,
      "outputs": []
    },
    {
      "cell_type": "code",
      "source": [
        "X.dtypes"
      ],
      "metadata": {
        "colab": {
          "base_uri": "https://localhost:8080/"
        },
        "id": "kuFgBTgBrdSq",
        "outputId": "ddf6481f-81b0-4203-81a2-27c7cbec0c7f"
      },
      "execution_count": 22,
      "outputs": [
        {
          "output_type": "execute_result",
          "data": {
            "text/plain": [
              "num_passengers             int64\n",
              "sales_channel              int64\n",
              "trip_type                  int64\n",
              "purchase_lead              int64\n",
              "length_of_stay             int64\n",
              "flight_hour                int64\n",
              "flight_day                 int64\n",
              "route                      int64\n",
              "booking_origin             int64\n",
              "wants_extra_baggage        int64\n",
              "wants_preferred_seat       int64\n",
              "wants_in_flight_meals      int64\n",
              "flight_duration          float64\n",
              "dtype: object"
            ]
          },
          "metadata": {},
          "execution_count": 22
        }
      ]
    },
    {
      "cell_type": "code",
      "source": [
        "from sklearn.feature_selection import mutual_info_classif\n",
        "\n",
        "mi_scores = mutual_info_classif(X,y)\n",
        "mi_scores = pd.Series(mi_scores, name = \"MI Scores\", index = X.columns)\n",
        "mi_scores = mi_scores.sort_values(ascending = False)\n",
        "\n",
        "mi_scores # show a few features with their MI scores"
      ],
      "metadata": {
        "colab": {
          "base_uri": "https://localhost:8080/"
        },
        "id": "rbo3Euyurh5l",
        "outputId": "9fee6e7b-ff64-4564-da50-3025cd247f7d"
      },
      "execution_count": 23,
      "outputs": [
        {
          "output_type": "execute_result",
          "data": {
            "text/plain": [
              "route                    0.052788\n",
              "booking_origin           0.048132\n",
              "flight_duration          0.016537\n",
              "wants_extra_baggage      0.009573\n",
              "length_of_stay           0.008157\n",
              "wants_preferred_seat     0.005449\n",
              "wants_in_flight_meals    0.003870\n",
              "num_passengers           0.002537\n",
              "trip_type                0.001631\n",
              "flight_hour              0.000440\n",
              "flight_day               0.000387\n",
              "sales_channel            0.000000\n",
              "purchase_lead            0.000000\n",
              "Name: MI Scores, dtype: float64"
            ]
          },
          "metadata": {},
          "execution_count": 23
        }
      ]
    },
    {
      "cell_type": "code",
      "source": [
        "from string import ascii_letters\n",
        "def plot_mi_scores (scores):\n",
        "  scores = scores.sort_values(ascending = True)\n",
        "  width = np.arange(len(scores))\n",
        "  ticks = list(scores.index)\n",
        "  plt.barh(width, scores)\n",
        "  plt.yticks(width, ticks)\n",
        "  plt.title('Mutual Inforamtion Scores')\n",
        "\n",
        "plt.figure(dpi=100, figsize=(8,5))\n",
        "plot_mi_scores(mi_scores)"
      ],
      "metadata": {
        "colab": {
          "base_uri": "https://localhost:8080/",
          "height": 364
        },
        "id": "JOuUHJcy5VnW",
        "outputId": "5b9b01b5-241c-45e6-939c-390ec9d95057"
      },
      "execution_count": 24,
      "outputs": [
        {
          "output_type": "display_data",
          "data": {
            "text/plain": [
              "<Figure size 800x500 with 1 Axes>"
            ],
            "image/png": "[encoded data removed]"
          },
          "metadata": {
            "needs_background": "light"
          }
        }
      ]
    },
    {
      "cell_type": "markdown",
      "source": [
        "We can see that the top 5 features which are dependent with the booking_complete feature are:\n",
        "1. route\n",
        "2. booking_origin\n",
        "3. flight_duration\n",
        "4. wants_extra_baggage\n",
        "5. length_of_stay\n",
        "\n"
      ],
      "metadata": {
        "id": "9Emeisnc6pfR"
      }
    },
    {
      "cell_type": "code",
      "source": [
        "from IPython.lib.security import random\n",
        "#test train split\n",
        "\n",
        "from sklearn.model_selection import train_test_split\n",
        "\n",
        "# dataset split \n",
        "# creating a function for dataset split\n",
        "def dataset(X,y):\n",
        "  train_full_X, val_X, train_full_y, val_y = train_test_split(X, y, test_size = 0.2, random_state=0)\n",
        "\n",
        "# use the same function above for the validation set\n",
        "  train_X, test_X, train_y, test_y = train_test_split(train_full_X, train_full_y, test_size=0.25, random_state=0)\n",
        "  return (train_X, val_X, train_y, val_y)"
      ],
      "metadata": {
        "id": "AnQHoz0D7FR_"
      },
      "execution_count": 30,
      "outputs": []
    },
    {
      "cell_type": "code",
      "source": [
        "from sklearn.preprocessing import MinMaxScaler\n",
        "\n",
        "def scale(X):\n",
        "  scaler = MinMaxScaler()\n",
        "  scaler.fit\n",
        "  return X"
      ],
      "metadata": {
        "id": "UTC5yNv47-1r"
      },
      "execution_count": 31,
      "outputs": []
    },
    {
      "cell_type": "markdown",
      "source": [
        "# **Model 1: Random forest classifier with top 6 features**"
      ],
      "metadata": {
        "id": "bgCNSaV38RRI"
      }
    },
    {
      "cell_type": "code",
      "source": [
        "from sklearn.metrics import roc_auc_score\n",
        "from sklearn.metrics import accuracy_score\n",
        "from sklearn.ensemble import RandomForestClassifier\n",
        "\n",
        "# assigning the features under a list\n",
        "\n",
        "features = ['route', 'booking_origin', 'flight_duration', 'wants_extra_baggage', 'length_of_stay', 'num_passengers']\n",
        "X = df[features]\n"
      ],
      "metadata": {
        "id": "MaMin82F8XpW"
      },
      "execution_count": 33,
      "outputs": []
    },
    {
      "cell_type": "code",
      "source": [
        "# one hot encoding \n",
        "X = pd.get_dummies(X, columns=features)\n",
        "X = scale(X)\n",
        "y = df.booking_complete\n",
        "\n",
        "X_train, X_val, y_train, y_val = dataset(X,y)\n",
        "\n",
        "forest_model = RandomForestClassifier(random_state=1)\n",
        "forest_model.fit(X_train, y_train)\n",
        "preds = forest_model.predict(X_val)\n",
        "\n",
        "print('Accuracy: ', accuracy_score(y_val, preds)* 100)\n",
        "print('AUC score: ', roc_auc_score(y_val,preds))"
      ],
      "metadata": {
        "colab": {
          "base_uri": "https://localhost:8080/"
        },
        "id": "oJ_AfTwKF09m",
        "outputId": "ec38b983-78e0-44c8-bf13-e339659e868f"
      },
      "execution_count": 34,
      "outputs": [
        {
          "output_type": "stream",
          "name": "stdout",
          "text": [
            "Accuracy:  83.36\n",
            "AUC score:  0.5657818407546988\n"
          ]
        }
      ]
    },
    {
      "cell_type": "markdown",
      "source": [
        "#**Model 2 : Random forest classifier with all features**"
      ],
      "metadata": {
        "id": "evzARsl_QOl4"
      }
    },
    {
      "cell_type": "code",
      "source": [
        "X = df.drop('booking_complete', axis =1)\n"
      ],
      "metadata": {
        "id": "TpVXgTUDQOBK"
      },
      "execution_count": null,
      "outputs": []
    },
    {
      "cell_type": "code",
      "source": [
        "from random import Random\n",
        "# one hot encoding \n",
        "X = pd.get_dummies(X)\n",
        "X = scale(X)\n",
        "y = df.booking_complete\n",
        "\n",
        "X_train, X_val, y_train, y_val= dataset(X,y)\n",
        "\n",
        "forest_model = RandomForestClassifier(random_state = 1)\n",
        "forest_model.fit(X_train, y_train)\n",
        "preds = forest_model.predict(X_val)\n",
        "\n",
        "print('ACCURACY: ', accuracy_score(y_val, preds) * 100)\n",
        "print('AUC score: ', roc_auc_score(y_val, preds))"
      ],
      "metadata": {
        "colab": {
          "base_uri": "https://localhost:8080/"
        },
        "id": "qhedwftHQds4",
        "outputId": "699411d7-2ba9-40b7-a2b1-1df254335cb9"
      },
      "execution_count": 35,
      "outputs": [
        {
          "output_type": "stream",
          "name": "stdout",
          "text": [
            "ACCURACY:  83.36\n",
            "AUC score:  0.5657818407546988\n"
          ]
        }
      ]
    },
    {
      "cell_type": "markdown",
      "source": [
        "# **Model 3 : XGB classifier with top 6 features**"
      ],
      "metadata": {
        "id": "vizd71WCXztm"
      }
    },
    {
      "cell_type": "code",
      "source": [
        "\n",
        "from xgboost import XGBClassifier\n",
        "\n",
        "X= df[features]\n",
        "\n",
        "#one hot encoding\n",
        "X = pd.get_dummies(X, columns=features)\n",
        "X= scale(X)\n",
        "\n",
        "y= df.booking_complete    \n",
        "\n",
        "X_train,X_val,y_train,y_val= dataset(X,y)\n",
        "xgb_model = XGBClassifier()\n",
        "\n",
        "xgb_model.fit(X_train, y_train)\n",
        "prediction_xgb = xgb_model.predict(X_val)\n",
        "print('ACCURACY: ',accuracy_score(y_val, prediction_xgb)*100)\n",
        "print('AUC score: ',roc_auc_score(y_val,prediction_xgb))\n",
        "     "
      ],
      "metadata": {
        "colab": {
          "base_uri": "https://localhost:8080/"
        },
        "id": "KZvYVEKQXy6O",
        "outputId": "fa01b829-3397-4ea8-87e6-b71afada360a"
      },
      "execution_count": 36,
      "outputs": [
        {
          "output_type": "stream",
          "name": "stdout",
          "text": [
            "ACCURACY:  84.78999999999999\n",
            "AUC score:  0.5231540310747802\n"
          ]
        }
      ]
    },
    {
      "cell_type": "markdown",
      "source": [
        "# **Model 4 : XGB classifier with all features**"
      ],
      "metadata": {
        "id": "3oexKXOUX8Ym"
      }
    },
    {
      "cell_type": "code",
      "source": [
        "X= df.drop('booking_complete',axis=1)\n",
        "#one hot encoding\n",
        "X = pd.get_dummies(X)\n",
        "X= scale(X)\n",
        "y= df.booking_complete \n",
        "\n",
        "X_train,X_val,y_train,y_val= dataset(X,y)\n",
        "\n",
        "\n",
        "xgb_model = XGBClassifier()\n",
        "xgb_model.fit(X_train, y_train)\n",
        "prediction_xgb = xgb_model.predict(X_val)\n",
        "print('ACCURACY: ',accuracy_score(y_val, prediction_xgb)*100)\n",
        "print('AUC score: ',roc_auc_score(y_val,prediction_xgb))"
      ],
      "metadata": {
        "colab": {
          "base_uri": "https://localhost:8080/"
        },
        "id": "Na6Uo-iAXzWV",
        "outputId": "53fe2442-78a7-44cc-e550-f163a9fccca6"
      },
      "execution_count": 37,
      "outputs": [
        {
          "output_type": "stream",
          "name": "stdout",
          "text": [
            "ACCURACY:  84.96000000000001\n",
            "AUC score:  0.5431644571912829\n"
          ]
        }
      ]
    },
    {
      "cell_type": "markdown",
      "source": [
        "Finalizing random forest model with all features as final model, as it has goos accuracy and higher auc score compared to other models\n",
        "\n",
        "Validating with test data set"
      ],
      "metadata": {
        "id": "1CzZinfTYEzH"
      }
    },
    {
      "cell_type": "code",
      "source": [
        "X= df.drop('booking_complete',axis=1)\n",
        "#one hot encoding\n",
        "X = pd.get_dummies(X)\n",
        "X= scale(X)\n",
        "y= df.booking_complete       \n",
        "\n",
        "train_full_X,test_X, train_full_y, test_y = train_test_split(X, y,test_size=0.2,random_state = 0)\n",
        "\n",
        "forest_model= RandomForestClassifier(random_state=1)\n",
        "forest_model.fit(train_full_X, train_full_y)\n",
        "preds= forest_model.predict(test_X)\n",
        "\n",
        "print('ACCURACY: ',accuracy_score(test_y,preds)*100)\n",
        "print('AUC score: ',roc_auc_score(test_y,preds))"
      ],
      "metadata": {
        "colab": {
          "base_uri": "https://localhost:8080/"
        },
        "id": "VF6SyUA7YKlP",
        "outputId": "7f068798-4a1c-4773-eb73-cdde39babb51"
      },
      "execution_count": 38,
      "outputs": [
        {
          "output_type": "stream",
          "name": "stdout",
          "text": [
            "ACCURACY:  85.09\n",
            "AUC score:  0.5577796717361984\n"
          ]
        }
      ]
    }
  ]
}